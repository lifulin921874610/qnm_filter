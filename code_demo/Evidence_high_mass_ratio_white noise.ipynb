{
 "cells": [
  {
   "cell_type": "markdown",
   "id": "e65a9ac9",
   "metadata": {},
   "source": [
    "# Evidence curve as a function of time"
   ]
  },
  {
   "cell_type": "markdown",
   "id": "36404f38",
   "metadata": {},
   "source": [
    "This notebook examines how well the evidence curve can help us constrain the start time of a QNM. We consider an ideal case where a $(l=2,m=2,n=0)$ mode is injected into white noise."
   ]
  },
  {
   "cell_type": "code",
   "execution_count": 5,
   "id": "3bd013e0",
   "metadata": {},
   "outputs": [],
   "source": [
    "%matplotlib inline\n",
    "%config InlineBackend.figure_format = 'retina'\n",
    "%config InlineBackend.rc = {'figure.figsize': (50, 40)}\n"
   ]
  },
  {
   "cell_type": "code",
   "execution_count": 6,
   "id": "3cda7ab2",
   "metadata": {},
   "outputs": [],
   "source": [
    "import numpy as np\n",
    "from scipy.interpolate import interp1d\n",
    "import matplotlib.pyplot as pl\n",
    "import qnm_filter\n",
    "import qnm\n",
    "import copy\n",
    "import seaborn as sns\n",
    "from matplotlib.ticker import MultipleLocator\n",
    "from mpl_toolkits.axes_grid1.axes_divider import make_axes_locatable\n"
   ]
  },
  {
   "cell_type": "markdown",
   "id": "4e0e0dcd",
   "metadata": {},
   "source": [
    "### Construct the GW strain from numerical relativity"
   ]
  },
  {
   "cell_type": "code",
   "execution_count": 7,
   "id": "98389375",
   "metadata": {},
   "outputs": [
    {
     "name": "stdout",
     "output_type": "stream",
     "text": [
      "Found the following files to load from the SXS catalog:\n",
      "    SXS:BBH:0063v5/Lev5/metadata.json\n"
     ]
    }
   ],
   "source": [
    "#创建实例\n",
    "NRwaveform = qnm_filter.SXSWaveforms(filename=\"SXS:BBH:0063\")  #传文件名参数，SXSWaveforms是类名\n",
    "#NRwaveform = qnm_filter.SXSWaveforms(filename=\"SXS:BBH:0064\")  \n",
    "#NRwaveform = qnm_filter.SXSWaveforms(filename=\"SXS:BBH:0185\")  \n",
    "#NRwaveform = qnm_filter.SXSWaveforms(filename=\"SXS:BBH:0305\")  \n",
    "\n",
    "\n",
    "#Get remnant mass and dimensionless spin from SXS catalog\n",
    "NRwaveform.get_remnant_data()"
   ]
  },
  {
   "cell_type": "markdown",
   "id": "2a14fa39",
   "metadata": {},
   "source": [
    "We focus on $(l=2,m=\\pm2)$ harmonics"
   ]
  },
  {
   "cell_type": "code",
   "execution_count": 8,
   "id": "e723d904",
   "metadata": {},
   "outputs": [
    {
     "name": "stdout",
     "output_type": "stream",
     "text": [
      "Found the following files to load from the SXS catalog:\n",
      "    SXS:BBH:0063v5/Lev5/rhOverM_Asymptotic_GeometricUnits_CoM.h5\n",
      "Found the following files to load from the SXS catalog:\n",
      "    SXS:BBH:0063v5/Lev5/rhOverM_Asymptotic_GeometricUnits_CoM.h5\n",
      "Found the following files to load from the SXS catalog:\n",
      "    SXS:BBH:0063v5/Lev5/rhOverM_Asymptotic_GeometricUnits_CoM.h5\n",
      "Found the following files to load from the SXS catalog:\n",
      "    SXS:BBH:0063v5/Lev5/rhOverM_Asymptotic_GeometricUnits_CoM.h5\n"
     ]
    }
   ],
   "source": [
    "#Download/Load SXS waveforms\n",
    "#l=2\n",
    "NRwaveform.import_sxs_data(l=2, m=2, interpolate=True, delta_t=0.05) #the step size of desired time stamps，interpolate和delta_t需要同时改，否则用sxs默认值，可能间隔不是平均的\n",
    "NRwaveform.import_sxs_data(l=2, m=-2, interpolate=True, delta_t=0.05)\n",
    "NRwaveform.import_sxs_data(l=2, m=1, interpolate=True, delta_t=0.05)\n",
    "NRwaveform.import_sxs_data(l=2, m=-1, interpolate=True, delta_t=0.05)\n",
    "#NRwaveform.import_sxs_data(l=2, m=0, interpolate=True, delta_t=0.05)\n",
    "\n",
    "\"\"\"\n",
    "\n",
    "#l=3\n",
    "NRwaveform.import_sxs_data(l=3, m=3, interpolate=True, delta_t=0.05)\n",
    "NRwaveform.import_sxs_data(l=3, m=-3, interpolate=True, delta_t=0.05)\n",
    "NRwaveform.import_sxs_data(l=3, m=2, interpolate=True, delta_t=0.05)\n",
    "NRwaveform.import_sxs_data(l=3, m=-2, interpolate=True, delta_t=0.05)\n",
    "#NRwaveform.import_sxs_data(l=3, m=1, interpolate=True, delta_t=0.05)\n",
    "#NRwaveform.import_sxs_data(l=3, m=-1, interpolate=True, delta_t=0.05)\n",
    "#NRwaveform.import_sxs_data(l=3, m=0, interpolate=True, delta_t=0.05)\n",
    "\n",
    "\n",
    "\n",
    "#l=4\n",
    "NRwaveform.import_sxs_data(l=4, m=4, interpolate=True, delta_t=0.05)\n",
    "NRwaveform.import_sxs_data(l=4, m=-4, interpolate=True, delta_t=0.05)\n",
    "\n",
    "#NRwaveform.import_sxs_data(l=4, m=3, interpolate=True, delta_t=0.05)\n",
    "#NRwaveform.import_sxs_data(l=4, m=-3, interpolate=True, delta_t=0.05)\n",
    "#\n",
    "#NRwaveform.import_sxs_data(l=4, m=2, interpolate=True, delta_t=0.05)\n",
    "#NRwaveform.import_sxs_data(l=4, m=-2, interpolate=True, delta_t=0.05)\n",
    "#\n",
    "#NRwaveform.import_sxs_data(l=4, m=1, interpolate=True, delta_t=0.05)\n",
    "#NRwaveform.import_sxs_data(l=4, m=-1, interpolate=True, delta_t=0.05)\n",
    "\n",
    "#NRwaveform.import_sxs_data(l=4, m=0, interpolate=True, delta_t=0.05)\n",
    "\n",
    "#l=5\n",
    "NRwaveform.import_sxs_data(l=5, m=5, interpolate=True, delta_t=0.05)\n",
    "NRwaveform.import_sxs_data(l=5, m=-5, interpolate=True, delta_t=0.05)\n",
    "#\n",
    "#NRwaveform.import_sxs_data(l=5, m=4, interpolate=True, delta_t=0.05)\n",
    "#NRwaveform.import_sxs_data(l=5, m=3, interpolate=True, delta_t=0.05)\n",
    "#NRwaveform.import_sxs_data(l=5, m=2, interpolate=True, delta_t=0.05)\n",
    "#NRwaveform.import_sxs_data(l=5, m=1, interpolate=True, delta_t=0.05)\n",
    "#NRwaveform.import_sxs_data(l=5, m=0, interpolate=True, delta_t=0.05)\n",
    "\"\"\"\n",
    "\n",
    "NRwaveform.pad_data(partition=2, len_pow=1)  #左右加同样的0"
   ]
  },
  {
   "cell_type": "code",
   "execution_count": 9,
   "id": "5100dbe6",
   "metadata": {},
   "outputs": [],
   "source": [
    "luminous_intensity = 440 # in Mpc\n",
    "bbh_mass = 72 # BBH's initial total mass, distinguished from remmnant mass\n",
    "NRwaveform.scale_to_si(\"padded_data\", bbh_mass, luminous_intensity)\n"
   ]
  },
  {
   "cell_type": "markdown",
   "id": "8e805081",
   "metadata": {},
   "source": [
    "### Construct detector noise with `bilby`"
   ]
  },
  {
   "cell_type": "code",
   "execution_count": 10,
   "id": "f78e9862",
   "metadata": {},
   "outputs": [],
   "source": [
    "sampling_frequency = 16384 # in Hz\n",
    "duration = 16 # in second\n",
    "\n",
    "acf_time = np.arange(0, 1., 1./sampling_frequency)\n",
    "acf_value = acf_time*0\n",
    "acf_value[0] = 1e-44                                 #给初始值赋值的目的？"
   ]
  },
  {
   "cell_type": "code",
   "execution_count": 11,
   "id": "aeb0f69b",
   "metadata": {},
   "outputs": [],
   "source": [
    "noise_customize = qnm_filter.Noise(acf = acf_value, time = acf_time)\n",
    "noise_customize.from_acf()"
   ]
  },
  {
   "cell_type": "markdown",
   "id": "03323a59",
   "metadata": {},
   "source": [
    "Below we construct two `bilby.gw.detector.Interferometer` instances for comparision. One is noisy and the other one is noiseless."
   ]
  },
  {
   "cell_type": "code",
   "execution_count": 12,
   "id": "37f7498b",
   "metadata": {},
   "outputs": [
    {
     "ename": "TypeError",
     "evalue": "set_bilby_ifo() missing 2 required positional arguments: 'minimum_frequency' and 'maximum_frequency'",
     "output_type": "error",
     "traceback": [
      "\u001b[0;31m---------------------------------------------------------------------------\u001b[0m",
      "\u001b[0;31mTypeError\u001b[0m                                 Traceback (most recent call last)",
      "\u001b[0;32m/var/folders/l9/79q1c7ks1nj5w266_x260lw00000gn/T/ipykernel_89899/2377280430.py\u001b[0m in \u001b[0;36m<module>\u001b[0;34m\u001b[0m\n\u001b[0;32m----> 1\u001b[0;31m \u001b[0mbilby_ifo\u001b[0m \u001b[0;34m=\u001b[0m \u001b[0mqnm_filter\u001b[0m\u001b[0;34m.\u001b[0m\u001b[0mset_bilby_ifo\u001b[0m\u001b[0;34m(\u001b[0m\u001b[0mnoise_customize\u001b[0m\u001b[0;34m,\u001b[0m \u001b[0msampling_frequency\u001b[0m\u001b[0;34m,\u001b[0m \u001b[0mduration\u001b[0m\u001b[0;34m,\u001b[0m \u001b[0mstart_time\u001b[0m\u001b[0;34m=\u001b[0m\u001b[0;34m-\u001b[0m\u001b[0mduration\u001b[0m\u001b[0;34m/\u001b[0m\u001b[0;36m2\u001b[0m\u001b[0;34m)\u001b[0m\u001b[0;34m\u001b[0m\u001b[0;34m\u001b[0m\u001b[0m\n\u001b[0m\u001b[1;32m      2\u001b[0m \u001b[0;31m#print(bilby_ifo)\u001b[0m\u001b[0;34m\u001b[0m\u001b[0;34m\u001b[0m\u001b[0m\n\u001b[1;32m      3\u001b[0m bilby_ifo_no_noise = qnm_filter.set_bilby_ifo(noise_customize, sampling_frequency, duration, \n\u001b[1;32m      4\u001b[0m                                                          start_time=-duration/2, zero_noise=True)\n",
      "\u001b[0;31mTypeError\u001b[0m: set_bilby_ifo() missing 2 required positional arguments: 'minimum_frequency' and 'maximum_frequency'"
     ]
    }
   ],
   "source": [
    "bilby_ifo = qnm_filter.set_bilby_ifo(noise_customize, sampling_frequency, duration, start_time=-duration/2)\n",
    "print(bilby_ifo)\n",
    "bilby_ifo_no_noise = qnm_filter.set_bilby_ifo(noise_customize, sampling_frequency, duration, \n",
    "                                                         start_time=-duration/2, zero_noise=True)"
   ]
  },
  {
   "cell_type": "code",
   "execution_count": null,
   "id": "3577e342",
   "metadata": {},
   "outputs": [],
   "source": [
    "signalH_noise = qnm_filter.bilby_get_strain(bilby_ifo, 0.0)\n",
    "signalH_no_noise = qnm_filter.bilby_get_strain(bilby_ifo_no_noise, 0.0)\n",
    "signalH_noise.plot()\n",
    "signalH_no_noise.plot()"
   ]
  },
  {
   "cell_type": "markdown",
   "id": "a7b20f2f",
   "metadata": {},
   "source": [
    "### Inject the GW strain into noise"
   ]
  },
  {
   "cell_type": "code",
   "execution_count": null,
   "id": "05ec38fb",
   "metadata": {},
   "outputs": [],
   "source": [
    "def NR_injection_into_Bilby(time, iota, beta, **waveform_kwargs):\n",
    "    \"\"\"A waveform function for `bilby.gw.waveform_generator.WaveformGenerator`\n",
    "    \n",
    "    Parameters\n",
    "    ----------\n",
    "    time : ndarray\n",
    "        time stamps for waveform\n",
    "    iota : float\n",
    "        inclination angle, in radian.\n",
    "    beta : float\n",
    "        azimuth, in radian.\n",
    "        \n",
    "    Returns\n",
    "    -------\n",
    "    Dictionary\n",
    "        A dictionary for plus and cross polarizations.\n",
    "    \"\"\"\n",
    "    nr_dataset = NRwaveform.harmonics_to_polarizations(\"data_in_si\", iota, beta, [(2,2), (2,-2)])\n",
    "    hplus = nr_dataset['plus']\n",
    "    hcross = nr_dataset['cross']\n",
    "    hplus_interp_func = interp1d(hplus.time, hplus.values, bounds_error=False, fill_value=0)\n",
    "    hcross_interp_func = interp1d(hcross.time, hcross.values, bounds_error=False, fill_value=0)\n",
    "\n",
    "    hplus = hplus_interp_func(time)     #time = getattr(self, attr_name)[str(l) + str(m)].time\n",
    "    hcross = hcross_interp_func(time)   \n",
    "\n",
    "    return {'plus': hplus, 'cross': hcross}"
   ]
  },
  {
   "cell_type": "code",
   "execution_count": null,
   "id": "f023b507",
   "metadata": {},
   "outputs": [],
   "source": [
    "bbh_spin1 = NRwaveform.get_bbh_spin1\n",
    "bbh_spin2 = NRwaveform.get_bbh_spin2\n",
    "injection_parameters = dict(mass_1=bbh_mass*NRwaveform.get_bbh_m1, mass_2=bbh_mass*NRwaveform.get_bbh_m2,\n",
    "                            spin_1x=bbh_spin1[0], spin_1y=bbh_spin1[1], spin_1z=bbh_spin1[2],\n",
    "                            spin_2x=bbh_spin2[0], spin_2y=bbh_spin2[1], spin_2z=bbh_spin2[2],\n",
    "                            geocent_time=-duration/2,\n",
    "                            iota=0, beta=0, \n",
    "                            ra=0, dec=0, psi=0, NRwaveform=NRwaveform)  #输入NR信号\n",
    "\n",
    "bilby_ifo.minimum_frequency = 10\n",
    "bilby_ifo_no_noise.minimum_frequency = 10"
   ]
  },
  {
   "cell_type": "code",
   "execution_count": null,
   "id": "5e810158",
   "metadata": {},
   "outputs": [],
   "source": [
    "bilby_ifo_inj = qnm_filter.bilby_injection(bilby_ifo, NR_injection_into_Bilby, **injection_parameters)\n",
    "bilby_ifo_inj_no_noise = qnm_filter.bilby_injection(bilby_ifo_no_noise, NR_injection_into_Bilby, \n",
    "                                                    **injection_parameters)"
   ]
  },
  {
   "cell_type": "code",
   "execution_count": null,
   "id": "03b54a1f",
   "metadata": {},
   "outputs": [],
   "source": [
    "# t0 = qnm_filter.time_shift_from_sky(bilby_ifo.name ,injection_parameters['ra'], injection_parameters['dec'], 0.0)\n",
    "t0 = bilby_ifo.time_delay_from_geocenter(injection_parameters['ra'], injection_parameters['dec'], 0.0)"
   ]
  },
  {
   "cell_type": "code",
   "execution_count": null,
   "id": "c07266a6",
   "metadata": {},
   "outputs": [],
   "source": [
    "signalH = qnm_filter.bilby_get_strain(bilby_ifo_inj, t0)\n",
    "signalH_no_noise = qnm_filter.bilby_get_strain(bilby_ifo_inj_no_noise, t0)"
   ]
  },
  {
   "cell_type": "code",
   "execution_count": null,
   "id": "fd2ff8b5",
   "metadata": {},
   "outputs": [],
   "source": [
    "signalH.plot()\n",
    "signalH_no_noise.plot()\n",
    "#signalH_noise.plot()\n",
    "pl.xlim(-0.1,0.1)"
   ]
  },
  {
   "cell_type": "markdown",
   "id": "190bfe57",
   "metadata": {},
   "source": [
    "### Ringdown analysis with rational filter(s)"
   ]
  },
  {
   "cell_type": "code",
   "execution_count": null,
   "id": "cdac50f6",
   "metadata": {},
   "outputs": [],
   "source": [
    "fit = qnm_filter.Network(segment_length=0.2, srate=4096, t_init = 0.0025)"
   ]
  },
  {
   "cell_type": "code",
   "execution_count": null,
   "id": "dcb5c65b",
   "metadata": {},
   "outputs": [],
   "source": [
    "fit.original_data['H1'] = signalH\n",
    "fit.detector_alignment()    # shifted_time = self.t_init"
   ]
  },
  {
   "cell_type": "code",
   "execution_count": null,
   "id": "8f7448fa",
   "metadata": {},
   "outputs": [],
   "source": [
    "fit.pure_noise = {}  #fit的新属性\n",
    "fit.pure_noise['H1'] = signalH_noise"
   ]
  },
  {
   "cell_type": "code",
   "execution_count": null,
   "id": "02a56938",
   "metadata": {},
   "outputs": [],
   "source": [
    "fit.pure_nr= {}\n",
    "fit.pure_nr['H1'] = signalH_no_noise  #NR"
   ]
  },
  {
   "cell_type": "markdown",
   "id": "8bc93ccb",
   "metadata": {},
   "source": [
    "We use the Welch method to estimate the covariance matrix with pure noise. The estimation with `original_data` may break down when SNR is large enough"
   ]
  },
  {
   "cell_type": "code",
   "execution_count": null,
   "id": "44a35198",
   "metadata": {},
   "outputs": [],
   "source": [
    "fit.condition_data('original_data')\n",
    "fit.condition_data('pure_noise')\n",
    "fit.condition_data('pure_nr')\n",
    "fit.compute_acfs('pure_noise')"
   ]
  },
  {
   "cell_type": "code",
   "execution_count": null,
   "id": "d57b2622",
   "metadata": {},
   "outputs": [],
   "source": [
    "fit.cholesky_decomposition()"
   ]
  },
  {
   "cell_type": "markdown",
   "id": "5ce59f37",
   "metadata": {},
   "source": [
    "Sampling remnant mass and spin"
   ]
  },
  {
   "cell_type": "code",
   "execution_count": null,
   "id": "aa8af616",
   "metadata": {},
   "outputs": [],
   "source": [
    "delta_mass = 1.0\n",
    "delta_chi = 0.01\n",
    "massspace = np.arange(30, 100, delta_mass)\n",
    "chispace = np.arange(0.0, 0.95, delta_chi)\n",
    "mass_grid, chi_grid = np.meshgrid(massspace, chispace)"
   ]
  },
  {
   "cell_type": "code",
   "execution_count": null,
   "id": "8e298ceb",
   "metadata": {},
   "outputs": [],
   "source": [
    "fit.first_index()\n",
    "likelihood_data, _ = qnm_filter.parallel_compute(fit, massspace, chispace, \n",
    "                                                 num_cpu = -1, model_list = [(2, 2, 0, \"p\"),(3, 3, 0, \"p\")]) #,(2, 2, 1, \"p\"),(2, 1, 0, \"p\"),,(2, 2, 1, \"p\")\n",
    "credible_region = qnm_filter.find_credible_region(likelihood_data)"
   ]
  },
  {
   "cell_type": "code",
   "execution_count": null,
   "id": "fa95746f",
   "metadata": {},
   "outputs": [],
   "source": [
    "projected_mass, projected_chi = qnm_filter.project_to_1d(likelihood_data, delta_mass, delta_chi)\n"
   ]
  },
  {
   "cell_type": "code",
   "execution_count": null,
   "id": "45a8cd07",
   "metadata": {},
   "outputs": [],
   "source": [
    "\"\"\"\n",
    "pl.rc('figure', figsize=(6.1, 6.6))\n",
    "fig, ax = pl.subplots()\n",
    "contours = ax.contourf(mass_grid, chi_grid, likelihood_data, 20, cmap='Spectral',\n",
    "                       origin='lower', alpha=0.6, linestyles='--')\n",
    "dotted = ax.contour(mass_grid, chi_grid, likelihood_data, [credible_region], colors = 'red', \\\n",
    "                   linestyles ='--')\n",
    "ax.scatter(x=NRwaveform.mf*bbh_mass, y=NRwaveform.chif, s=255, marker='+', \n",
    "           c='g', linewidths=4, label='IMR')\n",
    "\n",
    "\n",
    "# coloarbar\n",
    "cbar=fig.colorbar(contours, orientation=\"horizontal\", \n",
    "                  pad=0.15, format='%3.2f')\n",
    "cbar.set_label(r'$\\ln$ likelihood', fontsize=15)\n",
    "cbar.set_ticks(np.linspace(np.min(likelihood_data), np.max(likelihood_data), 5))\n",
    "\n",
    "pl.xlabel(r'$M_f/M_\\odot$', fontsize=13)\n",
    "pl.ylabel(r'$\\chi_f$', fontsize=13)\n",
    "\n",
    "# ax.set_title(r'$\\mathcal{F}_{220}+\\mathcal{F}_{221}$')\n",
    "\"\"\""
   ]
  },
  {
   "cell_type": "code",
   "execution_count": null,
   "id": "6d1c4e70",
   "metadata": {},
   "outputs": [],
   "source": [
    "g = sns.JointGrid(ratio=5,space=0.1)\n",
    "\n",
    "#改质量和自旋(x，y)\n",
    "# 2D\n",
    "contours=g.ax_joint.contourf(mass_grid, chi_grid, likelihood_data, 20, cmap='Spectral',\n",
    "                       origin='lower', alpha=0.6, linestyles='--')\n",
    "g.ax_joint.contour(contours, levels=[credible_region], linewidths=1.8,\n",
    "                   linestyles='--', colors='red')\n",
    "g.ax_joint.xaxis.set_major_locator(MultipleLocator(10))\n",
    "g.ax_joint.yaxis.set_major_locator(MultipleLocator(0.1))\n",
    "g.ax_joint.scatter(x=71.24, y=0.3067, s=255, marker='+', \n",
    "                   c='g', linewidths=4, label='IMR')\n",
    "g.ax_joint.axvline(71.24, ls='--', lw=1, c='k')\n",
    "g.ax_joint.axhline(0.3067, ls='--', lw=1, c='k')    \n",
    "g.ax_joint.set_xlabel(r'$M_f/M_\\odot$', fontsize=13)\n",
    "g.ax_joint.set_ylabel(r'$\\chi_f$', fontsize=13)\n",
    "g.ax_joint.grid(alpha=0.4)\n",
    "\n",
    "# 1D side plots \n",
    "g.ax_marg_x.axvline(71.24, ls='--', lw=1, c='k')\n",
    "g.ax_marg_x.plot(massspace, projected_mass, color='r', lw=1.8, alpha=0.5)\n",
    "\n",
    "g.ax_marg_y.axhline(0.3067, ls='--', lw=1, c='k')\n",
    "g.ax_marg_y.plot(projected_chi, chispace, color='r',lw=1.8,alpha=0.5)\n",
    "\n",
    "# coloarbar\n",
    "divider = make_axes_locatable(g.ax_marg_y)\n",
    "cax = divider.append_axes('right', size='20%', pad=0.1)\n",
    "cbar=g.fig.colorbar(contours, cax=cax, orientation=\"vertical\", format='%3.0f', ax=g.ax_marg_y)\n",
    "cbar.set_label(r'$\\ln$ likelihood', fontsize=15)\n",
    "cbar.set_ticks(np.linspace(np.min(likelihood_data), np.max(likelihood_data), 5))"
   ]
  },
  {
   "cell_type": "code",
   "execution_count": null,
   "id": "521010de",
   "metadata": {},
   "outputs": [],
   "source": [
    "fit.compute_SNR(fit.truncate_data(fit.original_data)['H1'], fit.truncate_data(fit.pure_nr)['H1'], 'H1', False)"
   ]
  },
  {
   "cell_type": "code",
   "execution_count": null,
   "id": "0620c61c",
   "metadata": {},
   "outputs": [],
   "source": []
  },
  {
   "cell_type": "code",
   "execution_count": null,
   "id": "b7f87c7f",
   "metadata": {},
   "outputs": [],
   "source": []
  },
  {
   "cell_type": "code",
   "execution_count": null,
   "id": "1303b428",
   "metadata": {},
   "outputs": [],
   "source": []
  },
  {
   "cell_type": "code",
   "execution_count": null,
   "id": "1e67971f",
   "metadata": {},
   "outputs": [],
   "source": []
  },
  {
   "cell_type": "markdown",
   "id": "49eb9a5a",
   "metadata": {},
   "source": [
    "Compute the first index of the analysis segment"
   ]
  },
  {
   "cell_type": "code",
   "execution_count": null,
   "id": "2a5e0b67",
   "metadata": {},
   "outputs": [],
   "source": [
    "\"\"\"\n",
    "fit.first_index()\n",
    "index_spacing = 2\n",
    "initial_offset, num_iteration = qnm_filter.time_to_index(fit, index_spacing, -0.002, 0.005)   #选取不同的开始分析时间对evidence的影响\n",
    "\"\"\""
   ]
  },
  {
   "cell_type": "code",
   "execution_count": null,
   "id": "45bc28d2",
   "metadata": {},
   "outputs": [],
   "source": [
    "#fitnew=copy.deepcopy(fit)  #？？"
   ]
  },
  {
   "cell_type": "markdown",
   "id": "1e0832fa",
   "metadata": {},
   "source": [
    "Iterate over `t_init`"
   ]
  },
  {
   "cell_type": "code",
   "execution_count": null,
   "id": "3306455c",
   "metadata": {},
   "outputs": [],
   "source": [
    "\"\"\"\n",
    "t_array, saved_log_evidence220p = qnm_filter.evidence_parallel(fit, index_spacing, num_iteration, \n",
    "                                                           initial_offset, massspace, chispace, num_cpu = -1, \n",
    "                                                           verbosity=False, model_list = [(2, 2, 0, \"p\")])\n",
    "\n",
    "t_array, saved_log_evidence220p220r = qnm_filter.evidence_parallel(fit, index_spacing, num_iteration, \n",
    "                                                           initial_offset, massspace, chispace, num_cpu = -1, \n",
    "                                                          verbosity=False, model_list = [(2, 2, 0, \"p\"),(2, 2, 0, \"r\")])\n",
    " \n",
    "\n",
    "t_array, saved_log_evidence220p330p = qnm_filter.evidence_parallel(fit, index_spacing, num_iteration, \n",
    "                                                           initial_offset, massspace, chispace, num_cpu = -1, \n",
    "                                                           verbosity=False, model_list = [(2, 2, 0, \"p\"),(3, 3, 0, \"p\")])\n",
    "t_array, saved_log_evidence220p320p = qnm_filter.evidence_parallel(fit, index_spacing, num_iteration, \n",
    "                                                           initial_offset, massspace, chispace, num_cpu = -1, \n",
    "                                                           verbosity=False, model_list = [(2, 2, 0, \"p\"),(3, 2, 0, \"p\")])\n",
    "t_array, saved_log_evidence220p210p = qnm_filter.evidence_parallel(fit, index_spacing, num_iteration, \n",
    "                                                           initial_offset, massspace, chispace, num_cpu = -1, \n",
    "                                                           verbosity=False, model_list = [(2, 2, 0, \"p\"),(2, 1, 0, \"p\")])\n",
    "t_array, saved_log_evidence220p440p = qnm_filter.evidence_parallel(fit, index_spacing, num_iteration, \n",
    "                                                           initial_offset, massspace, chispace, num_cpu = -1, \n",
    "                                                           verbosity=False, model_list = [(2, 2, 0, \"p\"),(4, 4, 0, \"p\")])\n",
    "\n",
    "\n",
    "t_array, saved_log_evidence220p221p = qnm_filter.evidence_parallel(fit, index_spacing, num_iteration, \n",
    "                                                           initial_offset, massspace, chispace, num_cpu = -1, \n",
    "                                                           verbosity=False, model_list = [(2, 2, 0, \"p\"),(2, 2, 1, \"p\")])\n",
    "\n",
    "t_array, saved_log_evidence220p221p222p = qnm_filter.evidence_parallel(fit, index_spacing, num_iteration, \n",
    "                                                           initial_offset, massspace, chispace, num_cpu = -1, \n",
    "                                                           verbosity=False, model_list = [(2, 2, 0, \"p\"),(2, 2, 1, \"p\"),(2, 2, 2, \"p\")])                                                           \n",
    "t_array, saved_log_evidence220p221p220r = qnm_filter.evidence_parallel(fit, index_spacing, num_iteration, \n",
    "                                                           initial_offset, massspace, chispace, num_cpu = -1, \n",
    "                                                           verbosity=False, model_list = [(2, 2, 0, \"p\"),(2, 2, 1, \"p\"),(2, 2, 0, \"r\")])\n",
    "t_array, saved_log_evidence220p221p220r221r = qnm_filter.evidence_parallel(fit, index_spacing, num_iteration, \n",
    "                                                           initial_offset, massspace, chispace, num_cpu = -1, \n",
    "                                                           verbosity=False, model_list = [(2, 2, 0, \"p\"),(2, 2, 1, \"p\"),(2, 2, 1, \"r\"),(2, 2, 0, \"r\")])\n",
    "\"\"\"                                                "
   ]
  },
  {
   "cell_type": "code",
   "execution_count": null,
   "id": "9d89a471",
   "metadata": {},
   "outputs": [],
   "source": [
    "\"\"\"\n",
    "t_array_no_filter, saved_log_evidence_no_filter = qnm_filter.evidence_parallel(fitnew, index_spacing, num_iteration, \n",
    "                                                                               initial_offset, massspace, chispace, \n",
    "                                                                               num_cpu = -1, verbosity=False, \n",
    "                                                                               apply_filter=False, \n",
    "                                                                               model_list = [(2, 2, 0)])   #不加filter怎么还提供model_list?\"\"\""
   ]
  },
  {
   "cell_type": "markdown",
   "id": "180fcf40",
   "metadata": {},
   "source": [
    "In the absence of the filter, the curve goes up when the ringdown signal slides off the analysis segment, namely $t>t_{\\rm start\\, time}$. In contrast, the filter flips the ringdown to the oppsite side, causing the evidence curve to rise sooner and plateau when $t>t_{\\rm start\\, time}$."
   ]
  },
  {
   "cell_type": "code",
   "execution_count": null,
   "id": "908d57cf",
   "metadata": {},
   "outputs": [],
   "source": [
    "\"\"\"\n",
    "saved_log_evidence220p /= np.log(10) # ln to lg\n",
    "#saved_log_evidence220p220r /= np.log(10) # ln to lg\n",
    "\n",
    "#saved_log_evidence220p330p /= np.log(10) # ln to lg\n",
    "#saved_log_evidence220p320p /= np.log(10) # ln to lg\n",
    "#saved_log_evidence220p210p /= np.log(10) # ln to lg\n",
    "#saved_log_evidence220p440p /= np.log(10) # ln to lg\n",
    "\n",
    "#saved_log_evidence220p221p /= np.log(10) # ln to lg\n",
    "#saved_log_evidence220p221p222p /= np.log(10) # ln to lg\n",
    "#saved_log_evidence220p221p220r /= np.log(10) # ln to lg\n",
    "#saved_log_evidence220p221p220r221r /= np.log(10) # ln to lg\n",
    "\n",
    "\n",
    "saved_log_evidence_no_filter /= np.log(10)\"\"\""
   ]
  },
  {
   "cell_type": "code",
   "execution_count": null,
   "id": "400b5574",
   "metadata": {},
   "outputs": [],
   "source": [
    "\"\"\"\n",
    "pl.plot(t_array, saved_log_evidence220p, 'o', ms=1.5, label='w/ filter220p')\n",
    "#pl.plot(t_array, saved_log_evidence220p220r, 'o', ms=1.5, label='w/ filter220p220r')\n",
    "\n",
    "#pl.plot(t_array, saved_log_evidence220p330p, 'o', ms=1.5, label='w/ filter220p330p')\n",
    "#pl.plot(t_array, saved_log_evidence220p320p, 'o', ms=1.5, label='w/ filter220p320p')\n",
    "#pl.plot(t_array, saved_log_evidence220p210p, 'o', ms=1.5, label='w/ filter220p210p')\n",
    "#pl.plot(t_array, saved_log_evidence220p440p, 'o', ms=1.5, label='w/ filter220p440p')\n",
    "\n",
    "#pl.plot(t_array, saved_log_evidence220p221p, 'o', ms=1.5, label='w/ filter220p221p')\n",
    "#pl.plot(t_array, saved_log_evidence220p221p222p, 'o', ms=1.5, label='w/ filter220p221p222p')\n",
    "#pl.plot(t_array, saved_log_evidence220p220r, 'o', ms=1.5, label='w/ filter220p221p220r')\n",
    "\n",
    "#pl.plot(t_array, saved_log_evidence220p221p220r, 'o', ms=1.5, label='w/ filter220p221p220r')\n",
    "#pl.plot(t_array, saved_log_evidence220p221p220r221r, 'o', ms=1.5, label='w/ filter220p221p220r221r')\n",
    "\n",
    "pl.plot(t_array_no_filter, saved_log_evidence_no_filter, 'o', ms=1.5, label=\"w/o filter\")\n",
    "\n",
    "pl.axvline(0, ls='--', label='start time')\n",
    "pl.legend()\n",
    "pl.ylabel('lg Evidence')\n",
    "pl.xlabel('t (ms)')\n",
    "\"\"\""
   ]
  },
  {
   "cell_type": "markdown",
   "id": "adea3ee8",
   "metadata": {},
   "source": [
    "The difference between the two evidence curves leads to the Bayes factor of the QNM, which peaks at its start time."
   ]
  },
  {
   "cell_type": "code",
   "execution_count": null,
   "id": "1e2e1f07",
   "metadata": {},
   "outputs": [],
   "source": [
    "\"\"\"\n",
    "pl.plot(t_array, saved_log_evidence220p-saved_log_evidence_no_filter, 'o', ms=1.5, label='w/ filter220p')\n",
    "#pl.plot(t_array, saved_log_evidence220p220r-saved_log_evidence220p, 'o', ms=1.5, label='w/ filter220p220r')\n",
    "\n",
    "#pl.plot(t_array, saved_log_evidence220p330p-saved_log_evidence_no_filter, 'o', ms=1.5, label='w/ filter220p330p')\n",
    "#pl.plot(t_array, saved_log_evidence220p320p-saved_log_evidence_no_filter, 'o', ms=1.5, label='w/ filter220p320p')\n",
    "#pl.plot(t_array, saved_log_evidence220p210p-saved_log_evidence_no_filter, 'o', ms=1.5, label='w/ filter220p210p')\n",
    "#pl.plot(t_array, saved_log_evidence220p440p-saved_log_evidence_no_filter, 'o', ms=1.5, label='w/ filter220p440p')\n",
    "\n",
    "#pl.plot(t_array, saved_log_evidence220p221p-saved_log_evidence220p, 'o', ms=1.5, label='w/ filter220p221p')\n",
    "\n",
    "#pl.plot(t_array, saved_log_evidence220p221p222p-saved_log_evidence_no_filter, 'o', ms=1.5, label='w/ filter220p221p222p')\n",
    "#pl.plot(t_array, saved_log_evidence220p221p220r-saved_log_evidence_no_filter, 'o', ms=1.5, label='w/ filter220p220r221p')\n",
    "#pl.plot(t_array, saved_log_evidence220p221p220r221r-saved_log_evidence_no_filter, 'o', ms=1.5, label='w/ filter220p220r221p221r')\n",
    "\n",
    "pl.axvline(0, ls='--', label='start time')\n",
    "pl.legend()\n",
    "pl.ylabel('lg Bayes')\n",
    "pl.xlabel('t (ms)')\n",
    "\"\"\""
   ]
  },
  {
   "cell_type": "code",
   "execution_count": null,
   "id": "c57a97e8",
   "metadata": {},
   "outputs": [],
   "source": []
  },
  {
   "cell_type": "code",
   "execution_count": null,
   "id": "f0d52824",
   "metadata": {},
   "outputs": [],
   "source": []
  },
  {
   "cell_type": "code",
   "execution_count": null,
   "id": "a8b8858b",
   "metadata": {},
   "outputs": [],
   "source": []
  }
 ],
 "metadata": {
  "kernelspec": {
   "display_name": "Python 3 (ipykernel)",
   "language": "python",
   "name": "python3"
  },
  "language_info": {
   "codemirror_mode": {
    "name": "ipython",
    "version": 3
   },
   "file_extension": ".py",
   "mimetype": "text/x-python",
   "name": "python",
   "nbconvert_exporter": "python",
   "pygments_lexer": "ipython3",
   "version": "3.9.7"
  }
 },
 "nbformat": 4,
 "nbformat_minor": 5
}
